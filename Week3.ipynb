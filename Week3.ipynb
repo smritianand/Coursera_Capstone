{
 "cells": [
  {
   "cell_type": "markdown",
   "metadata": {},
   "source": [
    "# Week-3 Notebook-1\n",
    "\n",
    "\n",
    "Using pandas library, I'm directly reading the table present within the HTML file of the given URL.\n",
    "\n",
    "Then I'm changing header names to be the exact values as in 1st row of the table"
   ]
  },
  {
   "cell_type": "code",
   "execution_count": 1,
   "metadata": {},
   "outputs": [],
   "source": [
    "import pandas as pd\n",
    "url = r'https://en.wikipedia.org/wiki/List_of_postal_codes_of_Canada:_M'\n",
    "tables = pd.read_html(url)\n",
    "tables = tables[0]\n",
    "tables.columns=tables.iloc[0]\n",
    "tables = tables.drop(0)"
   ]
  },
  {
   "cell_type": "markdown",
   "metadata": {},
   "source": [
    "Now I'm removing rows where Borough values are 'Not Assigned'\n",
    "\n",
    "Also, the rows where Neighbourhood values are 'Not Assigned' gets those values updated as same as the present Borough values."
   ]
  },
  {
   "cell_type": "code",
   "execution_count": 2,
   "metadata": {},
   "outputs": [],
   "source": [
    "tables = tables.set_index(\"Borough\",drop=0)\n",
    "tables = tables.drop(\"Not assigned\", axis=0)\n",
    "tables['Neighbourhood'] = [row[-2] if row[-1]=='Not assigned' else row[-1] for row in tables.itertuples()]\n",
    "tables = tables.reset_index(drop=True)"
   ]
  },
  {
   "cell_type": "markdown",
   "metadata": {},
   "source": [
    "Grouping the Boroughs and Postcodes and merging Neighbourhoods with same postcode"
   ]
  },
  {
   "cell_type": "code",
   "execution_count": 3,
   "metadata": {},
   "outputs": [],
   "source": [
    "tables= tables.groupby(['Postcode','Borough']).agg(\",\".join)\n",
    "tables = tables.reset_index(drop=0)"
   ]
  },
  {
   "cell_type": "code",
   "execution_count": 4,
   "metadata": {
    "scrolled": true
   },
   "outputs": [
    {
     "data": {
      "text/plain": [
       "(103, 3)"
      ]
     },
     "execution_count": 4,
     "metadata": {},
     "output_type": "execute_result"
    }
   ],
   "source": [
    "tables.shape"
   ]
  },
  {
   "cell_type": "code",
   "execution_count": null,
   "metadata": {},
   "outputs": [],
   "source": []
  }
 ],
 "metadata": {
  "kernelspec": {
   "display_name": "Python 3",
   "language": "python",
   "name": "python3"
  },
  "language_info": {
   "codemirror_mode": {
    "name": "ipython",
    "version": 3
   },
   "file_extension": ".py",
   "mimetype": "text/x-python",
   "name": "python",
   "nbconvert_exporter": "python",
   "pygments_lexer": "ipython3",
   "version": "3.7.1"
  }
 },
 "nbformat": 4,
 "nbformat_minor": 2
}
